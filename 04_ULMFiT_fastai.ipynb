{
  "nbformat": 4,
  "nbformat_minor": 0,
  "metadata": {
    "colab": {
      "name": "StockTwits Sentiment with ULMFiT",
      "version": "0.3.2",
      "provenance": []
    },
    "kernelspec": {
      "name": "python3",
      "display_name": "Python 3"
    },
    "accelerator": "GPU"
  },
  "cells": [
    {
      "metadata": {
        "id": "vwmMXgxIz2dZ",
        "colab_type": "text"
      },
      "cell_type": "markdown",
      "source": [
        "\n",
        "# Modeling Stock Market Sentiment with ULMFiT\n",
        "\n",
        "In this tutorial, we will fine-tune a ULMFiT model to predict the stock market sentiment based on a comment about the market. \n",
        "\n",
        "**NOTE**: This is a work in progress, right now I am learning this along with you!"
      ]
    },
    {
      "metadata": {
        "id": "c_G95Xix0iTS",
        "colab_type": "text"
      },
      "cell_type": "markdown",
      "source": [
        "## Setup\n",
        "\n",
        "First we import the necesary libraries for our modeling.\n",
        "\n",
        "Additionally, because we are working Google Colab, we need to upload a custom util module for preprocessing. We do this as follows:\n",
        "\n",
        "*   Clone the github repo at: https://github.com/GarrettHoffman/AI_Conf_2019_DL_4_NLP\n",
        "*   Click the > arrow on the top left corner of this Colab notebook\n",
        "*   Choose the Files tab\n",
        "*   Click UPLOAD and select the **util.py** module\n",
        "\n"
      ]
    },
    {
      "metadata": {
        "id": "yA8zetPccyoM",
        "colab_type": "code",
        "colab": {
          "base_uri": "https://localhost:8080/",
          "height": 170
        },
        "outputId": "4ce32ea3-6826-4a3d-f2c8-82449f56b415"
      },
      "cell_type": "code",
      "source": [
        "# Install PyTorch 1.0 that works with Colab\n",
        "!pip3 install https://download.pytorch.org/whl/cu80/torch-1.0.0-cp36-cp36m-linux_x86_64.whl"
      ],
      "execution_count": 1,
      "outputs": [
        {
          "output_type": "stream",
          "text": [
            "Collecting torch==1.0.0 from https://download.pytorch.org/whl/cu80/torch-1.0.0-cp36-cp36m-linux_x86_64.whl\n",
            "\u001b[?25l  Downloading https://download.pytorch.org/whl/cu80/torch-1.0.0-cp36-cp36m-linux_x86_64.whl (532.5MB)\n",
            "\u001b[K    100% |████████████████████████████████| 532.5MB 31kB/s \n",
            "\u001b[31mfastai 1.0.50.post1 has requirement numpy>=1.15, but you'll have numpy 1.14.6 which is incompatible.\u001b[0m\n",
            "\u001b[?25hInstalling collected packages: torch\n",
            "  Found existing installation: torch 1.0.1.post2\n",
            "    Uninstalling torch-1.0.1.post2:\n",
            "      Successfully uninstalled torch-1.0.1.post2\n",
            "Successfully installed torch-1.0.0\n"
          ],
          "name": "stdout"
        }
      ]
    },
    {
      "metadata": {
        "id": "5UdbcNQsz0AH",
        "colab_type": "code",
        "colab": {}
      },
      "cell_type": "code",
      "source": [
        "# import necesary libaries, classes and functions\n",
        "\n",
        "import pandas as pd\n",
        "import numpy as np\n",
        "from fastai.text.data import TextLMDataBunch, TextClasDataBunch\n",
        "from fastai.text.learner import language_model_learner, text_classifier_learner\n",
        "from fastai.text.models import AWD_LSTM\n",
        "from sklearn.model_selection import train_test_split"
      ],
      "execution_count": 0,
      "outputs": []
    },
    {
      "metadata": {
        "id": "3MSgAI9Az0Cw",
        "colab_type": "code",
        "colab": {}
      },
      "cell_type": "code",
      "source": [
        "# run this cell after you have uploaded the utils.py module (instructions above)\n",
        "import utils as utl"
      ],
      "execution_count": 0,
      "outputs": []
    },
    {
      "metadata": {
        "id": "ejt1Si7ZynFS",
        "colab_type": "text"
      },
      "cell_type": "markdown",
      "source": [
        "## Processing Data\n",
        "\n",
        "We will train the model using messages tagged with SPY, the S&P 500 index fund, from StockTwits.com. StockTwits is a social media network for traders and investors to share their views about the stock market. When a user posts a message, they tag the relevant stock ticker ($SPY in our case) and have the option to tag the messages with their sentiment – “bullish” if they believe the stock will go up and “bearish” if they believe the stock will go down.\n",
        "\n",
        "Our dataset consists of approximately 100,000 messages posted in 2017 that are tagged with $SPY where the user indicated their sentiment. Before we get to our LSTM Network we have to perform some processing on our data to get it ready for modeling.\n"
      ]
    },
    {
      "metadata": {
        "id": "xA5mgkVL_9w-",
        "colab_type": "text"
      },
      "cell_type": "markdown",
      "source": [
        "#### Read and View Data\n",
        "\n",
        "First we simply read in our data using pandas, pull out our message and sentiment data into numpy arrays. Let's also take a look at a few samples to get familiar with the data set."
      ]
    },
    {
      "metadata": {
        "id": "Jijw947ruc49",
        "colab_type": "code",
        "colab": {
          "base_uri": "https://localhost:8080/",
          "height": 207
        },
        "outputId": "b59baa1b-4575-4f51-936a-16fa264b6c20"
      },
      "cell_type": "code",
      "source": [
        "# read our data directly from github\n",
        "\n",
        "data_url = 'https://github.com/GarrettHoffman/AI_Conf_2019_DL_4_NLP/blob/master/data/StockTwits_SPY_Sentiment_2017.gz?raw=true'\n",
        "data = df = pd.read_csv(data_url,\n",
        "                        encoding=\"utf-8\",\n",
        "                        compression='gzip', \n",
        "                        index_col=0)\n",
        "\n",
        "# get messages and sentiment labels\n",
        "messages = data.message.values\n",
        "labels = data.sentiment.values\n",
        "\n",
        "# View sample of messages with sentiment\n",
        "\n",
        "for i in range(10):\n",
        "    print(\"Messages: {}...\".format(messages[i]),\n",
        "          \"Sentiment: {}\".format(labels[i]))"
      ],
      "execution_count": 4,
      "outputs": [
        {
          "output_type": "stream",
          "text": [
            "Messages: $SPY crazy day so far!... Sentiment: bearish\n",
            "Messages: $SPY Will make a new ATH this week. Watch it!... Sentiment: bullish\n",
            "Messages: $SPY $DJIA white elephant in room is $AAPL. Up 14% since election. Strong headwinds w/Trump trade & Strong dollar. How many 7's do you see?... Sentiment: bearish\n",
            "Messages: $SPY blocks above. We break above them We should push to double top... Sentiment: bullish\n",
            "Messages: $SPY Nothing happening in the market today, guess I'll go to the store and spend some $.... Sentiment: bearish\n",
            "Messages: $SPY What an easy call. Good jobs report: good economy, markets go up.  Bad jobs report: no more rate hikes, markets go up.  Win-win.... Sentiment: bullish\n",
            "Messages: $SPY BS market.... Sentiment: bullish\n",
            "Messages: $SPY this rally all the cheerleaders were screaming about this morning is pretty weak. I keep adding 2 my short at all spikes... Sentiment: bearish\n",
            "Messages: $SPY Dollar ripping higher!... Sentiment: bearish\n",
            "Messages: $SPY no reason to go down !... Sentiment: bullish\n"
          ],
          "name": "stdout"
        }
      ]
    },
    {
      "metadata": {
        "id": "12mgf5Bz6aab",
        "colab_type": "text"
      },
      "cell_type": "markdown",
      "source": [
        "#### Preprocess Messages\n",
        "\n",
        "Working with raw text data often requires preprocessing the text in some fashion to normalize for context. In our case we want to normalize for known unique \"entities\" that appear within messages that carry a similar contextual meaning when analyzing sentiment. This means we want to replace references to specific stock tickers, user names, url links or numbers with a special token identifying the \"entity\". Here we will also make everything lower case and remove punctuation."
      ]
    },
    {
      "metadata": {
        "id": "-iZtQaE86RMT",
        "colab_type": "code",
        "colab": {}
      },
      "cell_type": "code",
      "source": [
        "messages = np.array([utl.preprocess_ST_message(message) for message in messages])"
      ],
      "execution_count": 0,
      "outputs": []
    },
    {
      "metadata": {
        "id": "BsgYP2e0_E1q",
        "colab_type": "text"
      },
      "cell_type": "markdown",
      "source": [
        "#### Create Data DF\n",
        "\n",
        "The fast.ai library allows us to create our input data from a pandas DataFrame. By default the factory methods that create these objects assume  by default that a single label column comes before a single text column, so we will make sure these labels come first."
      ]
    },
    {
      "metadata": {
        "id": "njaoOeg26RQh",
        "colab_type": "code",
        "colab": {}
      },
      "cell_type": "code",
      "source": [
        "df = pd.DataFrame({'label': labels, 'text': messages })"
      ],
      "execution_count": 0,
      "outputs": []
    },
    {
      "metadata": {
        "id": "BHlfJOCnAF-j",
        "colab_type": "text"
      },
      "cell_type": "markdown",
      "source": [
        "#### Train/Val Split\n",
        "\n",
        "The last thing we do is split our data into tranining and validation sets."
      ]
    },
    {
      "metadata": {
        "id": "AwyX2Clc6RVF",
        "colab_type": "code",
        "colab": {}
      },
      "cell_type": "code",
      "source": [
        "df_trn, df_val = train_test_split(df, stratify = df['label'], test_size=0.2, random_state=42)"
      ],
      "execution_count": 0,
      "outputs": []
    },
    {
      "metadata": {
        "id": "J0A-Z1ZM6RXc",
        "colab_type": "code",
        "colab": {
          "base_uri": "https://localhost:8080/",
          "height": 68
        },
        "outputId": "d9f9d5fe-de47-4040-e5d0-f89f2e9e4586"
      },
      "cell_type": "code",
      "source": [
        "print(\"Data Set Size\")\n",
        "print(\"Train set: \\t\\t{}\".format(df_trn.shape), \n",
        "      \"\\nValidation set: \\t{}\".format(df_val.shape))"
      ],
      "execution_count": 8,
      "outputs": [
        {
          "output_type": "stream",
          "text": [
            "Data Set Size\n",
            "Train set: \t\t(77573, 2) \n",
            "Validation set: \t(19394, 2)\n"
          ],
          "name": "stdout"
        }
      ]
    },
    {
      "metadata": {
        "id": "HphlDFduGbof",
        "colab_type": "text"
      },
      "cell_type": "markdown",
      "source": [
        "## Training ULMFiT for Sentiment Classification\n",
        "\n"
      ]
    },
    {
      "metadata": {
        "id": "t6iLjGGLGbxG",
        "colab_type": "text"
      },
      "cell_type": "markdown",
      "source": [
        "#### Model Inputs\n",
        "\n",
        "The fast.ai libaray provides custom data classes that allow us to quickly and easily assemble our data for modelling. The base class is called a `TextDataBunch`. From the [fast.ai docs](https://docs.fast.ai/text.data.html#Quickly-assemble-your-data):\n",
        "\n",
        "You should get your data in one of the following formats to make the most of the fastai library and use one of the factory methods of one of the TextDataBunch classes:\n",
        "\n",
        "*  raw text files in folders train, valid, test in an ImageNet style,\n",
        "*  a csv where some column(s) gives the label(s) and the following one the associated text,\n",
        "*  a dataframe structured the same way,\n",
        "*  tokens and labels arrays,\n",
        "*  ids, vocabulary (correspondence id to word) and labels.\n",
        "\n",
        "We will use two extension of this class:\n",
        "\n",
        "*   `TextLMDataBunch` -- a `TextDataBunch` for training a language modeling, and\n",
        "*   `TextClasDataBunch` -- a `TextDataBunch` for training a RNN\n"
      ]
    },
    {
      "metadata": {
        "id": "B_yLJeWbwMX4",
        "colab_type": "code",
        "colab": {}
      },
      "cell_type": "code",
      "source": [
        "# Language model data\n",
        "data_lm = TextLMDataBunch.from_df( path='', train_df = df_trn, valid_df = df_val, \n",
        "                                  text_cols='text')\n",
        "\n",
        "# Classifier model data\n",
        "data_clas = TextClasDataBunch.from_df(path='', train_df = df_trn, valid_df = df_val, \n",
        "                                      vocab=data_lm.train_ds.vocab, bs=256, \n",
        "                                      text_cols='text', label_cols='label')"
      ],
      "execution_count": 0,
      "outputs": []
    },
    {
      "metadata": {
        "id": "Z8NFj_mPJCyE",
        "colab_type": "text"
      },
      "cell_type": "markdown",
      "source": [
        "#### Fine Tune Pre-Trained Language Model\n",
        "\n",
        "The fast.ai library includes the  **AWD_LSTM** language model that was pretrained on the Wikipedia data set. Here we use [`language_model_learner`](https://docs.fast.ai/text.learner.html#language_model_learner) to define our base language mode that we will fine tune with our sentiment classification task corpus.\n",
        "\n",
        "We will fine tune the model using a [one cycle policy](https://docs.fast.ai/callbacks.one_cycle.html#What-is-1cycle?).\n"
      ]
    },
    {
      "metadata": {
        "id": "woTkLRu8xAXK",
        "colab_type": "code",
        "colab": {}
      },
      "cell_type": "code",
      "source": [
        "# instantiate the language model learner\n",
        "lm_learn = language_model_learner(data_lm, arch=AWD_LSTM, pretrained=True, drop_mult=0.5)"
      ],
      "execution_count": 0,
      "outputs": []
    },
    {
      "metadata": {
        "id": "nf-8GONsxAZl",
        "colab_type": "code",
        "colab": {
          "base_uri": "https://localhost:8080/",
          "height": 34
        },
        "outputId": "627c5da6-b9da-4d3c-f7dd-ca9d6379390c"
      },
      "cell_type": "code",
      "source": [
        "# find max learning rate for one cycle training\n",
        "lm_learn.lr_find(start_lr=1e-8, end_lr=1e2)"
      ],
      "execution_count": 11,
      "outputs": [
        {
          "output_type": "display_data",
          "data": {
            "text/html": [
              ""
            ],
            "text/plain": [
              "<IPython.core.display.HTML object>"
            ]
          },
          "metadata": {
            "tags": []
          }
        },
        {
          "output_type": "stream",
          "text": [
            "LR Finder is complete, type {learner_name}.recorder.plot() to see the graph.\n"
          ],
          "name": "stdout"
        }
      ]
    },
    {
      "metadata": {
        "id": "98Rg16vUxAiM",
        "colab_type": "code",
        "colab": {
          "base_uri": "https://localhost:8080/",
          "height": 362
        },
        "outputId": "b7070ed6-a789-4eb5-845f-c2032a7b86d6"
      },
      "cell_type": "code",
      "source": [
        "# plot learning rate performance to get max learning rate for one cycle fitting\n",
        "lm_learn.recorder.plot()"
      ],
      "execution_count": 12,
      "outputs": [
        {
          "output_type": "display_data",
          "data": {
            "image/png": "[encoded data removed]",
            "text/plain": [
              "<Figure size 576x396 with 1 Axes>"
            ]
          },
          "metadata": {
            "tags": []
          }
        }
      ]
    },
    {
      "metadata": {
        "id": "WX2qaTTxxAlO",
        "colab_type": "code",
        "colab": {
          "base_uri": "https://localhost:8080/",
          "height": 103
        },
        "outputId": "9f3ebbf4-1754-4e5c-fd38-9fedd940460d"
      },
      "cell_type": "code",
      "source": [
        "# run one cycle training with max learning rate equal to ~1/10 (1 order of magnitude) of min learning rate in plot\n",
        "\n",
        "# Run one epoch with lower layers \n",
        "lm_learn.fit_one_cycle(cyc_len=1, max_lr=2e-1, moms=(0.8, 0.7))"
      ],
      "execution_count": 13,
      "outputs": [
        {
          "output_type": "display_data",
          "data": {
            "text/html": [
              "Total time: 02:35 <p><table border=\"1\" class=\"dataframe\">\n",
              "  <thead>\n",
              "    <tr style=\"text-align: left;\">\n",
              "      <th>epoch</th>\n",
              "      <th>train_loss</th>\n",
              "      <th>valid_loss</th>\n",
              "      <th>accuracy</th>\n",
              "      <th>time</th>\n",
              "    </tr>\n",
              "  </thead>\n",
              "  <tbody>\n",
              "    <tr>\n",
              "      <td>0</td>\n",
              "      <td>3.827267</td>\n",
              "      <td>3.556601</td>\n",
              "      <td>0.455999</td>\n",
              "      <td>02:35</td>\n",
              "    </tr>\n",
              "  </tbody>\n",
              "</table>"
            ],
            "text/plain": [
              "<IPython.core.display.HTML object>"
            ]
          },
          "metadata": {
            "tags": []
          }
        }
      ]
    },
    {
      "metadata": {
        "id": "00KrBsFp_uty",
        "colab_type": "code",
        "colab": {
          "base_uri": "https://localhost:8080/",
          "height": 103
        },
        "outputId": "eaf2d08c-583d-4df5-edb5-6f0cfe292966"
      },
      "cell_type": "code",
      "source": [
        "# Run for many epochs with all layers unfrozen and reduce max learning rate by factor of 2.6 (according to paper)\n",
        "lm_learn.unfreeze()\n",
        "lm_learn.fit_one_cycle(cyc_len=1, max_lr=8e-2, moms=(0.8, 0.7))"
      ],
      "execution_count": 14,
      "outputs": [
        {
          "output_type": "display_data",
          "data": {
            "text/html": [
              "Total time: 03:05 <p><table border=\"1\" class=\"dataframe\">\n",
              "  <thead>\n",
              "    <tr style=\"text-align: left;\">\n",
              "      <th>epoch</th>\n",
              "      <th>train_loss</th>\n",
              "      <th>valid_loss</th>\n",
              "      <th>accuracy</th>\n",
              "      <th>time</th>\n",
              "    </tr>\n",
              "  </thead>\n",
              "  <tbody>\n",
              "    <tr>\n",
              "      <td>0</td>\n",
              "      <td>4.072348</td>\n",
              "      <td>3.922269</td>\n",
              "      <td>0.404911</td>\n",
              "      <td>03:05</td>\n",
              "    </tr>\n",
              "  </tbody>\n",
              "</table>"
            ],
            "text/plain": [
              "<IPython.core.display.HTML object>"
            ]
          },
          "metadata": {
            "tags": []
          }
        }
      ]
    },
    {
      "metadata": {
        "id": "hgIO8l6vxAno",
        "colab_type": "code",
        "colab": {}
      },
      "cell_type": "code",
      "source": [
        "# save the fine tuned encoder\n",
        "lm_learn.save_encoder('ft_sentiment_enc')"
      ],
      "execution_count": 0,
      "outputs": []
    },
    {
      "metadata": {
        "id": "r6xTBfZps-ze",
        "colab_type": "text"
      },
      "cell_type": "markdown",
      "source": [
        "#### Train Target Task Classification\n",
        "\n",
        "Now we use our fine tuned encoder (Generalized Language Model) and train our classification task on top of this. The fast.ai library provides the [text_classification_learner](https://docs.fast.ai/text.learner.html#text_classifier_learner) function that allows us to easily build this model and load our fine tuned encoder into it.\n",
        "\n"
      ]
    },
    {
      "metadata": {
        "id": "vQ56Tdn6xAsT",
        "colab_type": "code",
        "colab": {}
      },
      "cell_type": "code",
      "source": [
        "# instantiate classifcation task learner\n",
        "cla_learn = text_classifier_learner(data_clas, arch=AWD_LSTM, drop_mult=0.5)\n",
        "\n",
        "# load finetuned encoder and freeze layers\n",
        "cla_learn.load_encoder('ft_sentiment_enc')\n",
        "cla_learn.freeze()"
      ],
      "execution_count": 0,
      "outputs": []
    },
    {
      "metadata": {
        "id": "eLoO2I551eo5",
        "colab_type": "code",
        "colab": {
          "base_uri": "https://localhost:8080/",
          "height": 34
        },
        "outputId": "bd259603-4cb5-4a00-8973-ca61701c75d6"
      },
      "cell_type": "code",
      "source": [
        "# find max learning rate for one cycle training\n",
        "cla_learn.lr_find(start_lr=1e-8, end_lr=1e2)"
      ],
      "execution_count": 17,
      "outputs": [
        {
          "output_type": "display_data",
          "data": {
            "text/html": [
              ""
            ],
            "text/plain": [
              "<IPython.core.display.HTML object>"
            ]
          },
          "metadata": {
            "tags": []
          }
        },
        {
          "output_type": "stream",
          "text": [
            "LR Finder is complete, type {learner_name}.recorder.plot() to see the graph.\n"
          ],
          "name": "stdout"
        }
      ]
    },
    {
      "metadata": {
        "id": "a3bC64RqF702",
        "colab_type": "code",
        "colab": {
          "base_uri": "https://localhost:8080/",
          "height": 361
        },
        "outputId": "877bf55b-3d87-4aca-e907-8f1817d21b2e"
      },
      "cell_type": "code",
      "source": [
        "cla_learn.recorder.plot()"
      ],
      "execution_count": 18,
      "outputs": [
        {
          "output_type": "display_data",
          "data": {
            "image/png": "[encoded data removed]",
            "text/plain": [
              "<Figure size 576x396 with 1 Axes>"
            ]
          },
          "metadata": {
            "tags": []
          }
        }
      ]
    },
    {
      "metadata": {
        "id": "zLNRa2nP1zrR",
        "colab_type": "code",
        "colab": {
          "base_uri": "https://localhost:8080/",
          "height": 103
        },
        "outputId": "1e0a8988-77bc-47fa-9917-b488d5e0fd92"
      },
      "cell_type": "code",
      "source": [
        "# run one cycle training with max learning rate equal to 1/10 of min learning rate in plot\n",
        "\n",
        "# train final layer for 1 epoch\n",
        "cla_learn.fit_one_cycle(cyc_len=1, max_lr=1e-2, moms=(0.8, 0.7))"
      ],
      "execution_count": 19,
      "outputs": [
        {
          "output_type": "display_data",
          "data": {
            "text/html": [
              "Total time: 01:04 <p><table border=\"1\" class=\"dataframe\">\n",
              "  <thead>\n",
              "    <tr style=\"text-align: left;\">\n",
              "      <th>epoch</th>\n",
              "      <th>train_loss</th>\n",
              "      <th>valid_loss</th>\n",
              "      <th>accuracy</th>\n",
              "      <th>time</th>\n",
              "    </tr>\n",
              "  </thead>\n",
              "  <tbody>\n",
              "    <tr>\n",
              "      <td>0</td>\n",
              "      <td>0.686993</td>\n",
              "      <td>0.686836</td>\n",
              "      <td>0.553831</td>\n",
              "      <td>01:04</td>\n",
              "    </tr>\n",
              "  </tbody>\n",
              "</table>"
            ],
            "text/plain": [
              "<IPython.core.display.HTML object>"
            ]
          },
          "metadata": {
            "tags": []
          }
        }
      ]
    },
    {
      "metadata": {
        "id": "TyuC7O885orY",
        "colab_type": "code",
        "colab": {
          "base_uri": "https://localhost:8080/",
          "height": 103
        },
        "outputId": "ab503f2b-f60a-4497-f19f-aeeb94bc33a5"
      },
      "cell_type": "code",
      "source": [
        "# gradual unfreeze to train model\n",
        "cla_learn.freeze_to(-2)\n",
        "cla_learn.fit_one_cycle(1, max_lr=1e-2, moms=(0.8,0.7))"
      ],
      "execution_count": 20,
      "outputs": [
        {
          "output_type": "display_data",
          "data": {
            "text/html": [
              "Total time: 01:20 <p><table border=\"1\" class=\"dataframe\">\n",
              "  <thead>\n",
              "    <tr style=\"text-align: left;\">\n",
              "      <th>epoch</th>\n",
              "      <th>train_loss</th>\n",
              "      <th>valid_loss</th>\n",
              "      <th>accuracy</th>\n",
              "      <th>time</th>\n",
              "    </tr>\n",
              "  </thead>\n",
              "  <tbody>\n",
              "    <tr>\n",
              "      <td>0</td>\n",
              "      <td>0.688093</td>\n",
              "      <td>0.687484</td>\n",
              "      <td>0.553831</td>\n",
              "      <td>01:20</td>\n",
              "    </tr>\n",
              "  </tbody>\n",
              "</table>"
            ],
            "text/plain": [
              "<IPython.core.display.HTML object>"
            ]
          },
          "metadata": {
            "tags": []
          }
        }
      ]
    },
    {
      "metadata": {
        "id": "ly2h2wi1Gs1C",
        "colab_type": "code",
        "colab": {
          "base_uri": "https://localhost:8080/",
          "height": 103
        },
        "outputId": "c021ae8e-257e-44d1-dd9d-a5a1935987eb"
      },
      "cell_type": "code",
      "source": [
        "# gradual unfreeze to train model\n",
        "cla_learn.freeze_to(-3)\n",
        "cla_learn.fit_one_cycle(1, max_lr=1e-1, moms=(0.8,0.7))"
      ],
      "execution_count": 21,
      "outputs": [
        {
          "output_type": "display_data",
          "data": {
            "text/html": [
              "Total time: 02:08 <p><table border=\"1\" class=\"dataframe\">\n",
              "  <thead>\n",
              "    <tr style=\"text-align: left;\">\n",
              "      <th>epoch</th>\n",
              "      <th>train_loss</th>\n",
              "      <th>valid_loss</th>\n",
              "      <th>accuracy</th>\n",
              "      <th>time</th>\n",
              "    </tr>\n",
              "  </thead>\n",
              "  <tbody>\n",
              "    <tr>\n",
              "      <td>0</td>\n",
              "      <td>0.688892</td>\n",
              "      <td>0.687367</td>\n",
              "      <td>0.553831</td>\n",
              "      <td>02:08</td>\n",
              "    </tr>\n",
              "  </tbody>\n",
              "</table>"
            ],
            "text/plain": [
              "<IPython.core.display.HTML object>"
            ]
          },
          "metadata": {
            "tags": []
          }
        }
      ]
    },
    {
      "metadata": {
        "id": "W58XDlmZGsya",
        "colab_type": "code",
        "colab": {
          "base_uri": "https://localhost:8080/",
          "height": 103
        },
        "outputId": "406eddc7-2667-4d83-ca74-2f498f34fcb0"
      },
      "cell_type": "code",
      "source": [
        "# train all of the layers\n",
        "cla_learn.unfreeze()\n",
        "cla_learn.fit_one_cycle(1, max_lr=1e-1, moms=(0.8,0.7))"
      ],
      "execution_count": 23,
      "outputs": [
        {
          "output_type": "display_data",
          "data": {
            "text/html": [
              "Total time: 02:42 <p><table border=\"1\" class=\"dataframe\">\n",
              "  <thead>\n",
              "    <tr style=\"text-align: left;\">\n",
              "      <th>epoch</th>\n",
              "      <th>train_loss</th>\n",
              "      <th>valid_loss</th>\n",
              "      <th>accuracy</th>\n",
              "      <th>time</th>\n",
              "    </tr>\n",
              "  </thead>\n",
              "  <tbody>\n",
              "    <tr>\n",
              "      <td>0</td>\n",
              "      <td>0.688758</td>\n",
              "      <td>0.687560</td>\n",
              "      <td>0.553831</td>\n",
              "      <td>02:42</td>\n",
              "    </tr>\n",
              "  </tbody>\n",
              "</table>"
            ],
            "text/plain": [
              "<IPython.core.display.HTML object>"
            ]
          },
          "metadata": {
            "tags": []
          }
        }
      ]
    },
    {
      "metadata": {
        "id": "0mBqyYgMGsvk",
        "colab_type": "code",
        "colab": {}
      },
      "cell_type": "code",
      "source": [
        ""
      ],
      "execution_count": 0,
      "outputs": []
    }
  ]
}